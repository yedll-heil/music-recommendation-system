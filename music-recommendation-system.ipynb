{
 "cells": [
  {
   "cell_type": "code",
   "execution_count": 1,
   "id": "ec5ffef9",
   "metadata": {
    "execution": {
     "iopub.execute_input": "2025-06-11T04:46:14.075700Z",
     "iopub.status.busy": "2025-06-11T04:46:14.075210Z",
     "iopub.status.idle": "2025-06-11T04:46:18.277649Z",
     "shell.execute_reply": "2025-06-11T04:46:18.276400Z"
    },
    "papermill": {
     "duration": 4.209166,
     "end_time": "2025-06-11T04:46:18.279460",
     "exception": false,
     "start_time": "2025-06-11T04:46:14.070294",
     "status": "completed"
    },
    "tags": []
   },
   "outputs": [],
   "source": [
    "import pandas as pd\n",
    "import numpy as np\n",
    "from scipy import sparse\n",
    "from sklearn.preprocessing import normalize"
   ]
  },
  {
   "cell_type": "code",
   "execution_count": 2,
   "id": "bf6b7221",
   "metadata": {
    "execution": {
     "iopub.execute_input": "2025-06-11T04:46:18.287397Z",
     "iopub.status.busy": "2025-06-11T04:46:18.286895Z",
     "iopub.status.idle": "2025-06-11T04:46:18.483651Z",
     "shell.execute_reply": "2025-06-11T04:46:18.482624Z"
    },
    "papermill": {
     "duration": 0.202033,
     "end_time": "2025-06-11T04:46:18.485097",
     "exception": false,
     "start_time": "2025-06-11T04:46:18.283064",
     "status": "completed"
    },
    "tags": []
   },
   "outputs": [
    {
     "name": "stdout",
     "output_type": "stream",
     "text": [
      "   user_id  artist_id  weight    artist_name\n",
      "0        2         51   13883    Duran Duran\n",
      "1        2         52   11690      Morcheeba\n",
      "2        2         53   11351            Air\n",
      "3        2         54   10300   Hooverphonic\n",
      "4        2         55    8983  Kylie Minogue\n"
     ]
    },
    {
     "data": {
      "text/plain": [
       "user_id        0\n",
       "artist_id      0\n",
       "weight         0\n",
       "artist_name    0\n",
       "dtype: int64"
      ]
     },
     "execution_count": 2,
     "metadata": {},
     "output_type": "execute_result"
    }
   ],
   "source": [
    "user_artists = pd.read_csv('/kaggle/input/version-1/user_artists.dat', sep='\\t')\n",
    "artists = pd.read_csv('/kaggle/input/version-1/artists.dat', sep='\\t', usecols=['id', 'name'])\n",
    "\n",
    "user_artists.columns = ['user_id', 'artist_id', 'weight']\n",
    "artists.columns = ['artist_id', 'artist_name']\n",
    "\n",
    "data = pd.merge(user_artists, artists, on='artist_id')\n",
    "print(data.head())\n",
    "\n",
    "# Clean dataset\n",
    "data.isnull().sum()"
   ]
  },
  {
   "cell_type": "code",
   "execution_count": 3,
   "id": "a8cdc5e8",
   "metadata": {
    "execution": {
     "iopub.execute_input": "2025-06-11T04:46:18.493319Z",
     "iopub.status.busy": "2025-06-11T04:46:18.492416Z",
     "iopub.status.idle": "2025-06-11T04:46:18.513005Z",
     "shell.execute_reply": "2025-06-11T04:46:18.512073Z"
    },
    "papermill": {
     "duration": 0.026592,
     "end_time": "2025-06-11T04:46:18.514906",
     "exception": false,
     "start_time": "2025-06-11T04:46:18.488314",
     "status": "completed"
    },
    "tags": []
   },
   "outputs": [],
   "source": [
    "user_counts = data['user_id'].value_counts()\n",
    "artist_counts = data['artist_id'].value_counts()\n",
    "\n",
    "active_users = user_counts[user_counts > 20].index\n",
    "popular_artists = artist_counts[artist_counts > 20].index\n",
    "\n",
    "filtered_data = data[\n",
    "    (data['user_id'].isin(active_users)) &\n",
    "    (data['artist_id'].isin(popular_artists))\n",
    "]"
   ]
  },
  {
   "cell_type": "code",
   "execution_count": 4,
   "id": "a70f8e8d",
   "metadata": {
    "execution": {
     "iopub.execute_input": "2025-06-11T04:46:18.522987Z",
     "iopub.status.busy": "2025-06-11T04:46:18.522685Z",
     "iopub.status.idle": "2025-06-11T04:46:18.646152Z",
     "shell.execute_reply": "2025-06-11T04:46:18.645030Z"
    },
    "papermill": {
     "duration": 0.129733,
     "end_time": "2025-06-11T04:46:18.648050",
     "exception": false,
     "start_time": "2025-06-11T04:46:18.518317",
     "status": "completed"
    },
    "tags": []
   },
   "outputs": [
    {
     "data": {
      "text/html": [
       "<div>\n",
       "<style scoped>\n",
       "    .dataframe tbody tr th:only-of-type {\n",
       "        vertical-align: middle;\n",
       "    }\n",
       "\n",
       "    .dataframe tbody tr th {\n",
       "        vertical-align: top;\n",
       "    }\n",
       "\n",
       "    .dataframe thead th {\n",
       "        text-align: right;\n",
       "    }\n",
       "</style>\n",
       "<table border=\"1\" class=\"dataframe\">\n",
       "  <thead>\n",
       "    <tr style=\"text-align: right;\">\n",
       "      <th>artist_id</th>\n",
       "      <th>7</th>\n",
       "      <th>9</th>\n",
       "      <th>15</th>\n",
       "      <th>25</th>\n",
       "      <th>30</th>\n",
       "      <th>45</th>\n",
       "      <th>51</th>\n",
       "      <th>52</th>\n",
       "      <th>53</th>\n",
       "      <th>55</th>\n",
       "      <th>...</th>\n",
       "      <th>5150</th>\n",
       "      <th>5416</th>\n",
       "      <th>5926</th>\n",
       "      <th>5988</th>\n",
       "      <th>6120</th>\n",
       "      <th>6217</th>\n",
       "      <th>6453</th>\n",
       "      <th>7324</th>\n",
       "      <th>7340</th>\n",
       "      <th>8589</th>\n",
       "    </tr>\n",
       "    <tr>\n",
       "      <th>user_id</th>\n",
       "      <th></th>\n",
       "      <th></th>\n",
       "      <th></th>\n",
       "      <th></th>\n",
       "      <th></th>\n",
       "      <th></th>\n",
       "      <th></th>\n",
       "      <th></th>\n",
       "      <th></th>\n",
       "      <th></th>\n",
       "      <th></th>\n",
       "      <th></th>\n",
       "      <th></th>\n",
       "      <th></th>\n",
       "      <th></th>\n",
       "      <th></th>\n",
       "      <th></th>\n",
       "      <th></th>\n",
       "      <th></th>\n",
       "      <th></th>\n",
       "      <th></th>\n",
       "    </tr>\n",
       "  </thead>\n",
       "  <tbody>\n",
       "    <tr>\n",
       "      <th>2</th>\n",
       "      <td>0.0</td>\n",
       "      <td>0.0</td>\n",
       "      <td>0.0</td>\n",
       "      <td>0.0</td>\n",
       "      <td>0.0</td>\n",
       "      <td>0.0</td>\n",
       "      <td>13883.0</td>\n",
       "      <td>11690.0</td>\n",
       "      <td>11351.0</td>\n",
       "      <td>8983.0</td>\n",
       "      <td>...</td>\n",
       "      <td>0.0</td>\n",
       "      <td>0.0</td>\n",
       "      <td>0.0</td>\n",
       "      <td>0.0</td>\n",
       "      <td>0.0</td>\n",
       "      <td>0.0</td>\n",
       "      <td>0.0</td>\n",
       "      <td>0.0</td>\n",
       "      <td>0.0</td>\n",
       "      <td>0.0</td>\n",
       "    </tr>\n",
       "    <tr>\n",
       "      <th>3</th>\n",
       "      <td>0.0</td>\n",
       "      <td>0.0</td>\n",
       "      <td>0.0</td>\n",
       "      <td>0.0</td>\n",
       "      <td>0.0</td>\n",
       "      <td>0.0</td>\n",
       "      <td>0.0</td>\n",
       "      <td>0.0</td>\n",
       "      <td>0.0</td>\n",
       "      <td>0.0</td>\n",
       "      <td>...</td>\n",
       "      <td>0.0</td>\n",
       "      <td>0.0</td>\n",
       "      <td>0.0</td>\n",
       "      <td>0.0</td>\n",
       "      <td>0.0</td>\n",
       "      <td>0.0</td>\n",
       "      <td>0.0</td>\n",
       "      <td>0.0</td>\n",
       "      <td>0.0</td>\n",
       "      <td>0.0</td>\n",
       "    </tr>\n",
       "    <tr>\n",
       "      <th>4</th>\n",
       "      <td>0.0</td>\n",
       "      <td>0.0</td>\n",
       "      <td>0.0</td>\n",
       "      <td>0.0</td>\n",
       "      <td>0.0</td>\n",
       "      <td>0.0</td>\n",
       "      <td>228.0</td>\n",
       "      <td>0.0</td>\n",
       "      <td>686.0</td>\n",
       "      <td>0.0</td>\n",
       "      <td>...</td>\n",
       "      <td>0.0</td>\n",
       "      <td>0.0</td>\n",
       "      <td>0.0</td>\n",
       "      <td>0.0</td>\n",
       "      <td>0.0</td>\n",
       "      <td>0.0</td>\n",
       "      <td>0.0</td>\n",
       "      <td>0.0</td>\n",
       "      <td>0.0</td>\n",
       "      <td>0.0</td>\n",
       "    </tr>\n",
       "    <tr>\n",
       "      <th>5</th>\n",
       "      <td>0.0</td>\n",
       "      <td>0.0</td>\n",
       "      <td>0.0</td>\n",
       "      <td>0.0</td>\n",
       "      <td>0.0</td>\n",
       "      <td>0.0</td>\n",
       "      <td>0.0</td>\n",
       "      <td>0.0</td>\n",
       "      <td>181.0</td>\n",
       "      <td>0.0</td>\n",
       "      <td>...</td>\n",
       "      <td>0.0</td>\n",
       "      <td>0.0</td>\n",
       "      <td>0.0</td>\n",
       "      <td>0.0</td>\n",
       "      <td>0.0</td>\n",
       "      <td>0.0</td>\n",
       "      <td>0.0</td>\n",
       "      <td>0.0</td>\n",
       "      <td>0.0</td>\n",
       "      <td>0.0</td>\n",
       "    </tr>\n",
       "    <tr>\n",
       "      <th>6</th>\n",
       "      <td>0.0</td>\n",
       "      <td>0.0</td>\n",
       "      <td>0.0</td>\n",
       "      <td>0.0</td>\n",
       "      <td>0.0</td>\n",
       "      <td>0.0</td>\n",
       "      <td>0.0</td>\n",
       "      <td>0.0</td>\n",
       "      <td>0.0</td>\n",
       "      <td>0.0</td>\n",
       "      <td>...</td>\n",
       "      <td>0.0</td>\n",
       "      <td>0.0</td>\n",
       "      <td>0.0</td>\n",
       "      <td>0.0</td>\n",
       "      <td>0.0</td>\n",
       "      <td>0.0</td>\n",
       "      <td>0.0</td>\n",
       "      <td>0.0</td>\n",
       "      <td>0.0</td>\n",
       "      <td>0.0</td>\n",
       "    </tr>\n",
       "  </tbody>\n",
       "</table>\n",
       "<p>5 rows × 768 columns</p>\n",
       "</div>"
      ],
      "text/plain": [
       "artist_id  7     9     15    25    30    45       51       52       53    \\\n",
       "user_id                                                                    \n",
       "2           0.0   0.0   0.0   0.0   0.0   0.0  13883.0  11690.0  11351.0   \n",
       "3           0.0   0.0   0.0   0.0   0.0   0.0      0.0      0.0      0.0   \n",
       "4           0.0   0.0   0.0   0.0   0.0   0.0    228.0      0.0    686.0   \n",
       "5           0.0   0.0   0.0   0.0   0.0   0.0      0.0      0.0    181.0   \n",
       "6           0.0   0.0   0.0   0.0   0.0   0.0      0.0      0.0      0.0   \n",
       "\n",
       "artist_id    55    ...  5150  5416  5926  5988  6120  6217  6453  7324  7340  \\\n",
       "user_id            ...                                                         \n",
       "2          8983.0  ...   0.0   0.0   0.0   0.0   0.0   0.0   0.0   0.0   0.0   \n",
       "3             0.0  ...   0.0   0.0   0.0   0.0   0.0   0.0   0.0   0.0   0.0   \n",
       "4             0.0  ...   0.0   0.0   0.0   0.0   0.0   0.0   0.0   0.0   0.0   \n",
       "5             0.0  ...   0.0   0.0   0.0   0.0   0.0   0.0   0.0   0.0   0.0   \n",
       "6             0.0  ...   0.0   0.0   0.0   0.0   0.0   0.0   0.0   0.0   0.0   \n",
       "\n",
       "artist_id  8589  \n",
       "user_id          \n",
       "2           0.0  \n",
       "3           0.0  \n",
       "4           0.0  \n",
       "5           0.0  \n",
       "6           0.0  \n",
       "\n",
       "[5 rows x 768 columns]"
      ]
     },
     "execution_count": 4,
     "metadata": {},
     "output_type": "execute_result"
    }
   ],
   "source": [
    "user_item_matrix = filtered_data.pivot_table(\n",
    "    index='user_id',\n",
    "    columns='artist_id',\n",
    "    values='weight',\n",
    "    fill_value=0\n",
    ")\n",
    "user_item_matrix.head()"
   ]
  },
  {
   "cell_type": "code",
   "execution_count": 5,
   "id": "796141c9",
   "metadata": {
    "execution": {
     "iopub.execute_input": "2025-06-11T04:46:18.655980Z",
     "iopub.status.busy": "2025-06-11T04:46:18.655640Z",
     "iopub.status.idle": "2025-06-11T04:46:18.672877Z",
     "shell.execute_reply": "2025-06-11T04:46:18.671859Z"
    },
    "papermill": {
     "duration": 0.023062,
     "end_time": "2025-06-11T04:46:18.674617",
     "exception": false,
     "start_time": "2025-06-11T04:46:18.651555",
     "status": "completed"
    },
    "tags": []
   },
   "outputs": [
    {
     "name": "stdout",
     "output_type": "stream",
     "text": [
      "Sparsity: 0.9630 (96.30%)\n"
     ]
    }
   ],
   "source": [
    "non_zero = user_item_matrix.astype(bool).sum().sum()\n",
    "total = user_item_matrix.shape[0] * user_item_matrix.shape[1]\n",
    "\n",
    "sparsity = 1 - (non_zero / total)\n",
    "print(f\"Sparsity: {sparsity:.4f} ({sparsity * 100:.2f}%)\")"
   ]
  },
  {
   "cell_type": "code",
   "execution_count": 6,
   "id": "b3b14557",
   "metadata": {
    "execution": {
     "iopub.execute_input": "2025-06-11T04:46:18.682885Z",
     "iopub.status.busy": "2025-06-11T04:46:18.682571Z",
     "iopub.status.idle": "2025-06-11T04:46:18.892938Z",
     "shell.execute_reply": "2025-06-11T04:46:18.891981Z"
    },
    "papermill": {
     "duration": 0.216662,
     "end_time": "2025-06-11T04:46:18.894699",
     "exception": false,
     "start_time": "2025-06-11T04:46:18.678037",
     "status": "completed"
    },
    "tags": []
   },
   "outputs": [],
   "source": [
    "from sklearn.metrics.pairwise import cosine_similarity\n",
    "\n",
    "user_similarity = cosine_similarity(user_item_matrix)\n",
    "user_similarity_df = pd.DataFrame(user_similarity, index=user_item_matrix.index, columns=user_item_matrix.index)"
   ]
  },
  {
   "cell_type": "code",
   "execution_count": 7,
   "id": "9984764b",
   "metadata": {
    "execution": {
     "iopub.execute_input": "2025-06-11T04:46:18.902848Z",
     "iopub.status.busy": "2025-06-11T04:46:18.902524Z",
     "iopub.status.idle": "2025-06-11T04:46:18.908533Z",
     "shell.execute_reply": "2025-06-11T04:46:18.907681Z"
    },
    "papermill": {
     "duration": 0.011635,
     "end_time": "2025-06-11T04:46:18.909985",
     "exception": false,
     "start_time": "2025-06-11T04:46:18.898350",
     "status": "completed"
    },
    "tags": []
   },
   "outputs": [],
   "source": [
    "def get_user_recommendations(target_user_id, n_recommendations=10):\n",
    "    similar_users = user_similarity_df[target_user_id].sort_values(ascending=False)[1:11]\n",
    "\n",
    "    weighted_scores = user_item_matrix.loc[similar_users.index].T.dot(similar_users)\n",
    "\n",
    "    user_listened = user_item_matrix.loc[target_user_id]\n",
    "\n",
    "    listened_artist_ids = user_listened[user_listened > 0].index\n",
    "\n",
    "    weighted_scores = weighted_scores.drop(listened_artist_ids, errors='ignore')\n",
    "\n",
    "    top_artists = weighted_scores.sort_values(ascending=False).head(n_recommendations)\n",
    "\n",
    "    top_artist_ids = top_artists.index\n",
    "    recommendations = artists[artists['artist_id'].isin(top_artist_ids)]\n",
    "\n",
    "    return recommendations"
   ]
  },
  {
   "cell_type": "code",
   "execution_count": 8,
   "id": "9563d403",
   "metadata": {
    "execution": {
     "iopub.execute_input": "2025-06-11T04:46:18.917815Z",
     "iopub.status.busy": "2025-06-11T04:46:18.917501Z",
     "iopub.status.idle": "2025-06-11T04:46:18.935162Z",
     "shell.execute_reply": "2025-06-11T04:46:18.934035Z"
    },
    "papermill": {
     "duration": 0.023311,
     "end_time": "2025-06-11T04:46:18.936788",
     "exception": false,
     "start_time": "2025-06-11T04:46:18.913477",
     "status": "completed"
    },
    "tags": []
   },
   "outputs": [
    {
     "data": {
      "text/html": [
       "<div>\n",
       "<style scoped>\n",
       "    .dataframe tbody tr th:only-of-type {\n",
       "        vertical-align: middle;\n",
       "    }\n",
       "\n",
       "    .dataframe tbody tr th {\n",
       "        vertical-align: top;\n",
       "    }\n",
       "\n",
       "    .dataframe thead th {\n",
       "        text-align: right;\n",
       "    }\n",
       "</style>\n",
       "<table border=\"1\" class=\"dataframe\">\n",
       "  <thead>\n",
       "    <tr style=\"text-align: right;\">\n",
       "      <th></th>\n",
       "      <th>artist_id</th>\n",
       "      <th>artist_name</th>\n",
       "    </tr>\n",
       "  </thead>\n",
       "  <tbody>\n",
       "    <tr>\n",
       "      <th>61</th>\n",
       "      <td>67</td>\n",
       "      <td>Madonna</td>\n",
       "    </tr>\n",
       "    <tr>\n",
       "      <th>288</th>\n",
       "      <td>294</td>\n",
       "      <td>Leona Lewis</td>\n",
       "    </tr>\n",
       "    <tr>\n",
       "      <th>293</th>\n",
       "      <td>299</td>\n",
       "      <td>Jennifer Lopez</td>\n",
       "    </tr>\n",
       "    <tr>\n",
       "      <th>319</th>\n",
       "      <td>325</td>\n",
       "      <td>Ashley Tisdale</td>\n",
       "    </tr>\n",
       "    <tr>\n",
       "      <th>327</th>\n",
       "      <td>333</td>\n",
       "      <td>Avril Lavigne</td>\n",
       "    </tr>\n",
       "    <tr>\n",
       "      <th>455</th>\n",
       "      <td>461</td>\n",
       "      <td>Miley Cyrus</td>\n",
       "    </tr>\n",
       "    <tr>\n",
       "      <th>460</th>\n",
       "      <td>466</td>\n",
       "      <td>Ke$ha</td>\n",
       "    </tr>\n",
       "    <tr>\n",
       "      <th>517</th>\n",
       "      <td>523</td>\n",
       "      <td>Lindsay Lohan</td>\n",
       "    </tr>\n",
       "    <tr>\n",
       "      <th>695</th>\n",
       "      <td>701</td>\n",
       "      <td>Shakira</td>\n",
       "    </tr>\n",
       "    <tr>\n",
       "      <th>2528</th>\n",
       "      <td>2548</td>\n",
       "      <td>Wanessa</td>\n",
       "    </tr>\n",
       "  </tbody>\n",
       "</table>\n",
       "</div>"
      ],
      "text/plain": [
       "      artist_id     artist_name\n",
       "61           67         Madonna\n",
       "288         294     Leona Lewis\n",
       "293         299  Jennifer Lopez\n",
       "319         325  Ashley Tisdale\n",
       "327         333   Avril Lavigne\n",
       "455         461     Miley Cyrus\n",
       "460         466           Ke$ha\n",
       "517         523   Lindsay Lohan\n",
       "695         701         Shakira\n",
       "2528       2548         Wanessa"
      ]
     },
     "execution_count": 8,
     "metadata": {},
     "output_type": "execute_result"
    }
   ],
   "source": [
    "get_user_recommendations(target_user_id=8)"
   ]
  },
  {
   "cell_type": "code",
   "execution_count": 9,
   "id": "0654e157",
   "metadata": {
    "execution": {
     "iopub.execute_input": "2025-06-11T04:46:18.945622Z",
     "iopub.status.busy": "2025-06-11T04:46:18.944864Z",
     "iopub.status.idle": "2025-06-11T04:46:19.044058Z",
     "shell.execute_reply": "2025-06-11T04:46:19.043285Z"
    },
    "papermill": {
     "duration": 0.105231,
     "end_time": "2025-06-11T04:46:19.045838",
     "exception": false,
     "start_time": "2025-06-11T04:46:18.940607",
     "status": "completed"
    },
    "tags": []
   },
   "outputs": [],
   "source": [
    "from sklearn.model_selection import train_test_split\n",
    "import numpy as np\n",
    "\n",
    "interactions = filtered_data[['user_id', 'artist_id', 'weight']]\n",
    "\n",
    "train, test = train_test_split(interactions, test_size=0.2, random_state=6)\n",
    "\n",
    "train_matrix = train.pivot(index='user_id', columns='artist_id', values='weight').fillna(0)\n",
    "test_matrix = test.pivot(index='user_id', columns='artist_id', values='weight').fillna(0)\n"
   ]
  },
  {
   "cell_type": "code",
   "execution_count": 10,
   "id": "f9cccb83",
   "metadata": {
    "execution": {
     "iopub.execute_input": "2025-06-11T04:46:19.054125Z",
     "iopub.status.busy": "2025-06-11T04:46:19.053806Z",
     "iopub.status.idle": "2025-06-11T04:46:19.146563Z",
     "shell.execute_reply": "2025-06-11T04:46:19.145443Z"
    },
    "papermill": {
     "duration": 0.098628,
     "end_time": "2025-06-11T04:46:19.148024",
     "exception": false,
     "start_time": "2025-06-11T04:46:19.049396",
     "status": "completed"
    },
    "tags": []
   },
   "outputs": [
    {
     "name": "stdout",
     "output_type": "stream",
     "text": [
      "RMSE: 985.5682734159731\n"
     ]
    }
   ],
   "source": [
    "from sklearn.metrics import mean_squared_error\n",
    "\n",
    "user_similarity_train = cosine_similarity(train_matrix)\n",
    "sim_df = pd.DataFrame(user_similarity_train, index=train_matrix.index, columns=train_matrix.index)\n",
    "\n",
    "def predict(user_id):\n",
    "    sim_users = sim_df[user_id].drop(user_id)\n",
    "    sim_users = sim_users[sim_users > 0]\n",
    "    if sim_users.empty:\n",
    "        return np.zeros(train_matrix.shape[1])\n",
    "    weighted_sum = train_matrix.loc[sim_users.index].T.dot(sim_users)\n",
    "    norm = sim_users.sum()\n",
    "    return weighted_sum / norm\n",
    "\n",
    "user_id = train_matrix.index[0]\n",
    "predicted = predict(user_id)\n",
    "actual = test_matrix.loc[user_id]\n",
    "\n",
    "common = actual[actual > 0].index\n",
    "rmse = np.sqrt(mean_squared_error(actual[common], predicted[common]))\n",
    "print(\"RMSE:\", rmse)\n"
   ]
  },
  {
   "cell_type": "code",
   "execution_count": 11,
   "id": "4cfd9d0e",
   "metadata": {
    "execution": {
     "iopub.execute_input": "2025-06-11T04:46:19.157424Z",
     "iopub.status.busy": "2025-06-11T04:46:19.157054Z",
     "iopub.status.idle": "2025-06-11T04:46:19.176191Z",
     "shell.execute_reply": "2025-06-11T04:46:19.175275Z"
    },
    "papermill": {
     "duration": 0.025968,
     "end_time": "2025-06-11T04:46:19.177985",
     "exception": false,
     "start_time": "2025-06-11T04:46:19.152017",
     "status": "completed"
    },
    "tags": []
   },
   "outputs": [
    {
     "name": "stdout",
     "output_type": "stream",
     "text": [
      "Рекомендации для пользователя 46:\n",
      "      artist_id     artist_name\n",
      "61           67         Madonna\n",
      "251         257    Mariah Carey\n",
      "287         293  Ashlee Simpson\n",
      "288         294     Leona Lewis\n",
      "304         310   Nelly Furtado\n",
      "325         331      Kanye West\n",
      "541         547        Kid Cudi\n",
      "2077       2092            소녀시대\n",
      "2079       2094             BoA\n",
      "2970       2990       Shontelle\n",
      "------\n",
      "Рекомендации для пользователя 52:\n",
      "      artist_id           artist_name\n",
      "464         470      nevershoutnever!\n",
      "677         683            John Mayer\n",
      "681         687          All Time Low\n",
      "770         779  Bring Me The Horizon\n",
      "814         823      August Burns Red\n",
      "1026       1035      Breathe Carolina\n",
      "1091       1100               Chiodos\n",
      "1171       1180       Escape The Fate\n",
      "1844       1853          blessthefall\n",
      "2599       2619           VersaEmerge\n",
      "------\n",
      "Рекомендации для пользователя 51:\n",
      "      artist_id          artist_name\n",
      "704         710  Black Label Society\n",
      "834         843              Pantera\n",
      "845         854      Alice in Chains\n",
      "911         920        Dream Theater\n",
      "937         946            Avantasia\n",
      "942         951             Bon Jovi\n",
      "1330       1339       Sonata Arctica\n",
      "1363       1372          Deep Purple\n",
      "1794       1803          Mötley Crüe\n",
      "2327       2342                  Dio\n",
      "------\n"
     ]
    }
   ],
   "source": [
    "for user_id in [46, 52, 51]:\n",
    "    print(f\"Рекомендации для пользователя {user_id}:\")\n",
    "    print(get_user_recommendations(user_id))\n",
    "    print(\"------\")"
   ]
  },
  {
   "cell_type": "code",
   "execution_count": null,
   "id": "3dcfa7a4",
   "metadata": {
    "papermill": {
     "duration": 0.003305,
     "end_time": "2025-06-11T04:46:19.185062",
     "exception": false,
     "start_time": "2025-06-11T04:46:19.181757",
     "status": "completed"
    },
    "tags": []
   },
   "outputs": [],
   "source": []
  }
 ],
 "metadata": {
  "kaggle": {
   "accelerator": "none",
   "dataSources": [
    {
     "datasetId": 7635508,
     "sourceId": 12126081,
     "sourceType": "datasetVersion"
    }
   ],
   "dockerImageVersionId": 31040,
   "isGpuEnabled": false,
   "isInternetEnabled": true,
   "language": "python",
   "sourceType": "notebook"
  },
  "kernelspec": {
   "display_name": "Python 3",
   "language": "python",
   "name": "python3"
  },
  "language_info": {
   "codemirror_mode": {
    "name": "ipython",
    "version": 3
   },
   "file_extension": ".py",
   "mimetype": "text/x-python",
   "name": "python",
   "nbconvert_exporter": "python",
   "pygments_lexer": "ipython3",
   "version": "3.11.11"
  },
  "papermill": {
   "default_parameters": {},
   "duration": 11.255031,
   "end_time": "2025-06-11T04:46:19.909846",
   "environment_variables": {},
   "exception": null,
   "input_path": "__notebook__.ipynb",
   "output_path": "__notebook__.ipynb",
   "parameters": {},
   "start_time": "2025-06-11T04:46:08.654815",
   "version": "2.6.0"
  }
 },
 "nbformat": 4,
 "nbformat_minor": 5
}
